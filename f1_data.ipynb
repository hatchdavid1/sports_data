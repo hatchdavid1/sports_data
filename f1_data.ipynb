{
  "nbformat": 4,
  "nbformat_minor": 0,
  "metadata": {
    "colab": {
      "name": "f1_data.ipynb",
      "provenance": [],
      "authorship_tag": "ABX9TyM5BQ/AUtsgWxsOtXdWjvhD",
      "include_colab_link": true
    },
    "kernelspec": {
      "name": "python3",
      "display_name": "Python 3"
    },
    "language_info": {
      "name": "python"
    }
  },
  "cells": [
    {
      "cell_type": "markdown",
      "metadata": {
        "id": "view-in-github",
        "colab_type": "text"
      },
      "source": [
        "<a href=\"https://colab.research.google.com/github/hatchdavid1/sports_data/blob/main/f1_data.ipynb\" target=\"_parent\"><img src=\"https://colab.research.google.com/assets/colab-badge.svg\" alt=\"Open In Colab\"/></a>"
      ]
    },
    {
      "cell_type": "code",
      "execution_count": 2,
      "metadata": {
        "id": "OzXdJhGqHIo8"
      },
      "outputs": [],
      "source": [
        "# ! /Códigos_python/projects/sports/f1\n",
        "# Libraries\n",
        "import pandas as pd \n",
        "import numpy as np \n",
        "import matplotlib.pyplot as plt\n",
        "import seaborn as sns\n",
        "import requests\n",
        "import json"
      ]
    },
    {
      "cell_type": "code",
      "source": [
        "url = \"https://api-formula-1.p.rapidapi.com/seasons\"\n",
        "\n",
        "headers = f'{\n",
        "    'x-rapidapi-host': {host},\n",
        "    'x-rapidapi-key'{key}: \n",
        "    }\n",
        "\n",
        "response = requests.request(\"GET\", url, headers=headers)\n",
        "\n",
        "print(response.text)"
      ],
      "metadata": {
        "id": "dloBukAXHdge"
      },
      "execution_count": null,
      "outputs": []
    }
  ]
}