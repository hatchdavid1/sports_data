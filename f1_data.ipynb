{
  "nbformat": 4,
  "nbformat_minor": 0,
  "metadata": {
    "colab": {
      "name": "f1_data.ipynb",
      "provenance": [],
      "collapsed_sections": [],
      "mount_file_id": "1JF8V9c-8e-P-GLFqU1JMqvs_ht-QZNQD",
      "authorship_tag": "ABX9TyOihcPe6co0FSRoNw2hqXup",
      "include_colab_link": true
    },
    "kernelspec": {
      "name": "python3",
      "display_name": "Python 3"
    },
    "language_info": {
      "name": "python"
    }
  },
  "cells": [
    {
      "cell_type": "markdown",
      "metadata": {
        "id": "view-in-github",
        "colab_type": "text"
      },
      "source": [
        "<a href=\"https://colab.research.google.com/github/hatchdavid1/sports_data/blob/main/f1_data.ipynb\" target=\"_parent\"><img src=\"https://colab.research.google.com/assets/colab-badge.svg\" alt=\"Open In Colab\"/></a>"
      ]
    },
    {
      "cell_type": "code",
      "execution_count": 18,
      "metadata": {
        "id": "OzXdJhGqHIo8"
      },
      "outputs": [],
      "source": [
        "# ! /Códigos_python/projects/sports/f1\n",
        "# Libraries\n",
        "import pandas as pd \n",
        "import numpy as np \n",
        "import matplotlib.pyplot as plt\n",
        "import seaborn as sns\n",
        "import requests\n",
        "import json\n",
        "import ast"
      ]
    },
    {
      "cell_type": "code",
      "source": [
        "with open('/api_key.txt') as f:\n",
        "    data = f.read()\n",
        "dic = ast.literal_eval(data)\n",
        "host = dic.get('host')\n",
        "key = dic.get('key')"
      ],
      "metadata": {
        "id": "BI0N5q4TMkgA"
      },
      "execution_count": 31,
      "outputs": []
    },
    {
      "cell_type": "code",
      "source": [
        "url = \"https://api-formula-1.p.rapidapi.com/seasons\"\n",
        "\n",
        "\n",
        "headers = {\n",
        "    'x-rapidapi-host': host,\n",
        "    'x-rapidapi-key':key \n",
        "    }\n",
        "\n",
        "response = requests.request(\"GET\", url, headers=headers)\n",
        "\n",
        "print(response.text)"
      ],
      "metadata": {
        "colab": {
          "base_uri": "https://localhost:8080/"
        },
        "id": "dloBukAXHdge",
        "outputId": "ac0e33c2-d7ad-46ec-a3b5-677b0096479d"
      },
      "execution_count": 29,
      "outputs": [
        {
          "output_type": "stream",
          "name": "stdout",
          "text": [
            "{\"message\":\"You are not subscribed to this API.\"}\n"
          ]
        }
      ]
    }
  ]
}